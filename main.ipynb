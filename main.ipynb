{
 "cells": [
  {
   "cell_type": "markdown",
   "metadata": {},
   "source": [
    "## Import and Setup"
   ]
  },
  {
   "cell_type": "code",
   "execution_count": 6,
   "metadata": {},
   "outputs": [],
   "source": [
    "from numbers_parser import Document\n",
    "import pandas as pd"
   ]
  },
  {
   "cell_type": "markdown",
   "metadata": {},
   "source": [
    "## Loading data from Numbers file"
   ]
  },
  {
   "cell_type": "code",
   "execution_count": 19,
   "metadata": {},
   "outputs": [],
   "source": [
    "doc = Document(\"/Users/guillaume/Library/Mobile Documents/com~apple~Numbers/Documents/Job Applications.numbers\")\n",
    "sheets = doc.sheets()\n",
    "tables = sheets[0].tables()\n",
    "data = tables[0].rows(values_only=True)\n",
    "df = pd.DataFrame(data, columns=[\"Company Name\", \"Job Title\", \"Category\", \"Place\", \"Date\", \"Answer\", \"Interview\", \"Mail\", \"Pwd\", \"Note\"])\n",
    "df.drop(index=df.index[0], axis=0, inplace=True)"
   ]
  },
  {
   "cell_type": "markdown",
   "metadata": {},
   "source": [
    "## Preping the Sankey data "
   ]
  },
  {
   "cell_type": "code",
   "execution_count": 22,
   "metadata": {},
   "outputs": [
    {
     "data": {
      "text/plain": [
       "Rejected       118\n",
       "Tba             92\n",
       "Offer            1\n",
       "Turned Down      1\n",
       "Name: Answer, dtype: int64"
      ]
     },
     "execution_count": 22,
     "metadata": {},
     "output_type": "execute_result"
    }
   ],
   "source": [
    "INIT=0\n",
    "TBA=1\n",
    "REJECTED=2\n",
    "INTERVIEW=3\n",
    "OFFER=4\n",
    "TDOWN=5\n",
    "\n",
    "source=[]\n",
    "target=[]\n",
    "activity=[]\n",
    "\n",
    "df[\"Answer\"].value_counts()"
   ]
  }
 ],
 "metadata": {
  "interpreter": {
   "hash": "8acd2a4c40bb06440d03e583eeea35c6596324a3385dafe16353bbc1939be192"
  },
  "kernelspec": {
   "display_name": "Python 3.8.12",
   "language": "python",
   "name": "python3"
  },
  "language_info": {
   "codemirror_mode": {
    "name": "ipython",
    "version": 3
   },
   "file_extension": ".py",
   "mimetype": "text/x-python",
   "name": "python",
   "nbconvert_exporter": "python",
   "pygments_lexer": "ipython3",
   "version": "3.8.12"
  },
  "orig_nbformat": 4
 },
 "nbformat": 4,
 "nbformat_minor": 2
}
